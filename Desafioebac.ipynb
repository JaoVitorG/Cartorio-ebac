{
  "nbformat": 4,
  "nbformat_minor": 0,
  "metadata": {
    "colab": {
      "provenance": [],
      "authorship_tag": "ABX9TyPZwtr45cIdgSY0HgtdbhMJ",
      "include_colab_link": true
    },
    "kernelspec": {
      "name": "python3",
      "display_name": "Python 3"
    },
    "language_info": {
      "name": "python"
    }
  },
  "cells": [
    {
      "cell_type": "markdown",
      "metadata": {
        "id": "view-in-github",
        "colab_type": "text"
      },
      "source": [
        "<a href=\"https://colab.research.google.com/github/JaoVitorG/Cartorio-ebac/blob/main/Desafioebac.ipynb\" target=\"_parent\"><img src=\"https://colab.research.google.com/assets/colab-badge.svg\" alt=\"Open In Colab\"/></a>"
      ]
    },
    {
      "cell_type": "markdown",
      "source": [
        "## Desafio EBAC"
      ],
      "metadata": {
        "id": "cWzSzMRY_bkK"
      }
    },
    {
      "cell_type": "markdown",
      "source": [
        "Faça um programa que calcule o valor total investido por um colecionador em sua coleção de CDs e o valor médio gasto em cada um deles. O usuário deverá informar a quantidade de CDs e o valor para cada um."
      ],
      "metadata": {
        "id": "BXTU6aif_mNq"
      }
    },
    {
      "cell_type": "code",
      "execution_count": 48,
      "metadata": {
        "id": "xMpaecoC_bBO",
        "colab": {
          "base_uri": "https://localhost:8080/"
        },
        "outputId": "82ba0a8d-8b14-439f-adfc-4ee5a4b94d63"
      },
      "outputs": [
        {
          "output_type": "stream",
          "name": "stdout",
          "text": [
            "Olá, qual quantidade de CDs da coleção?5\n",
            "Qual valor do cd? 16\n",
            "Valor total dos CDs é: R$ 80.0\n",
            "Valor médio gasto por CD: R$ 16.0\n"
          ]
        }
      ],
      "source": [
        "#organizando o pensamento para como realizar o desafio\n",
        "quantidade_cds =0\n",
        "valor_cds =0.0\n",
        "valor_total_cds =0.0\n",
        "\n",
        "\n",
        "quantidade_cds = int(input('Olá, qual quantidade de CDs da coleção?'))\n",
        "try:\n",
        "  #possivel erro caso o usuário digite um valor com , ou diferente de float\n",
        "  valor_cds = float(input('Qual valor do cd? '))\n",
        "except:\n",
        "  print('Caso o valor seja em com centavos utilizar o ponto (.) em vez da virgula')\n",
        "\n",
        "valor_total_cds = valor_cds*quantidade_cds\n",
        "print('Valor total dos CDs é: R$',valor_total_cds)\n",
        "valor_medio_cds = valor_total_cds/quantidade_cds\n",
        "print('Valor médio gasto por CD: R$',valor_medio_cds)"
      ]
    },
    {
      "cell_type": "code",
      "source": [
        "#uma forma de utilizar o laço for para o usuário digitar o valor de cada cd\n",
        "valores = []\n",
        "quantidade_cds = int(input('Olá, qual quantidade de CDs da coleção?'))\n",
        "for total in range(0,quantidade_cds):\n",
        "  try:\n",
        "    valores.append(float(input(f'Digite o valor de cada CD{total + 1}: R$')))\n",
        "  except ValueError:\n",
        "    print('Valor incorreto, para ser valido digitar o valor como o seguinte: 5.25')\n",
        "soma_total = sum(valores)\n",
        "print('Todos os valores:', valores)\n",
        "print('Valor total dos CDs é: R$',soma_total)\n",
        "valor_medio_cds = soma_total/quantidade_cds\n",
        "print('Valor médio gasto por CD: R$',valor_medio_cds)"
      ],
      "metadata": {
        "colab": {
          "base_uri": "https://localhost:8080/"
        },
        "id": "pkMcIcHCNsAE",
        "outputId": "e694b0f3-8d95-4164-d84b-8a9ddde8ca7d"
      },
      "execution_count": 49,
      "outputs": [
        {
          "output_type": "stream",
          "name": "stdout",
          "text": [
            "Olá, qual quantidade de CDs da coleção?5\n",
            "Digite o valor de cada CD1: R$3\n",
            "Digite o valor de cada CD2: R$1\n",
            "Digite o valor de cada CD3: R$2\n",
            "Digite o valor de cada CD4: R$3\n",
            "Digite o valor de cada CD5: R$5\n",
            "Todos os valores: [3.0, 1.0, 2.0, 3.0, 5.0]\n",
            "Valor total dos CDs é: R$ 14.0\n",
            "Valor médio gasto por CD: R$ 2.8\n"
          ]
        }
      ]
    },
    {
      "cell_type": "code",
      "source": [
        "# definição de uma função\n",
        "\n",
        "def cds():\n",
        "  valores = []\n",
        "  try:\n",
        "    quantidade_cds = int(input('Olá, qual quantidade de CDs da coleção?'))\n",
        "  except ValueError:\n",
        "    print('Valor incorreto, digite um valor inteiro')\n",
        "    return cds() #em caso de erro retorna para redigitar\n",
        "  for total in range(0,quantidade_cds):\n",
        "    try:\n",
        "      valores.append(float(input(f'Digite o valor de cada CD{total + 1}: R$')))\n",
        "    except ValueError:\n",
        "      print('Valor incorreto, por gentileza digite um valor correto')\n",
        "  soma_total = sum(valores)\n",
        "  print('Todos os valores:', valores)\n",
        "  print('Valor total dos CDs é: R$',soma_total)\n",
        "  valor_medio_cds = soma_total/quantidade_cds\n",
        "  print('Valor médio gasto por CD: R$',valor_medio_cds)\n",
        "cds()"
      ],
      "metadata": {
        "id": "uiLuPiVTdBq9",
        "colab": {
          "base_uri": "https://localhost:8080/"
        },
        "outputId": "c11bf71b-8d60-4f71-a8fb-df80fcc902ef"
      },
      "execution_count": 26,
      "outputs": [
        {
          "output_type": "stream",
          "name": "stdout",
          "text": [
            "Olá, qual quantidade de CDs da coleção?1,2\n",
            "Valor incorreto, digite um valor inteiro\n",
            "Olá, qual quantidade de CDs da coleção?3\n",
            "Digite o valor de cada CD1: R$1\n",
            "Digite o valor de cada CD2: R$1.6\n",
            "Digite o valor de cada CD3: R$5.48\n",
            "Todos os valores: [1.0, 1.6, 5.48]\n",
            "Valor total dos CDs é: R$ 8.08\n",
            "Valor médio gasto por CD: R$ 2.6933333333333334\n"
          ]
        }
      ]
    },
    {
      "cell_type": "code",
      "source": [
        "#efetuando o mesmo codigo utilizando a função while\n",
        "def cds():\n",
        "  valores = []\n",
        "  try:\n",
        "    quantidade_cds = int(input('Olá, qual quantidade de CDs da coleção? '))\n",
        "  except ValueError:\n",
        "    print('Valor incorreto, digite um valor inteiro')\n",
        "    return cds() #em caso de erro retorna para redigitar\n",
        "  total = 1\n",
        "\n",
        "  while(total <= quantidade_cds):\n",
        "    try:\n",
        "      valores.append(float(input(f'Digite o valor de cada CD{total}: R$')))\n",
        "      total += 1\n",
        "#caso digite um valor incorreto pedira para redigitar até for o correto\n",
        "    except ValueError:\n",
        "      print('Valor incorreto, por gentileza digite um valor correto')\n",
        "  soma_total = sum(valores)\n",
        "  print('Todos os valores:', valores)\n",
        "  print('Valor total dos CDs é: R$',soma_total)\n",
        "  valor_medio_cds = soma_total/quantidade_cds\n",
        "  print('Valor médio gasto por CD: R$',valor_medio_cds)\n",
        "cds()"
      ],
      "metadata": {
        "colab": {
          "base_uri": "https://localhost:8080/"
        },
        "id": "PEIOYuN3nMZN",
        "outputId": "629b1ecf-b826-4700-f2a6-1059d393d1f8"
      },
      "execution_count": 50,
      "outputs": [
        {
          "output_type": "stream",
          "name": "stdout",
          "text": [
            "Olá, qual quantidade de CDs da coleção? 5\n",
            "Digite o valor de cada CD1: R$3\n",
            "Digite o valor de cada CD2: R$6\n",
            "Digite o valor de cada CD3: R$1,3\n",
            "Valor incorreto, por gentileza digite um valor correto\n",
            "Digite o valor de cada CD3: R$2,1\n",
            "Valor incorreto, por gentileza digite um valor correto\n",
            "Digite o valor de cada CD3: R$5\n",
            "Digite o valor de cada CD4: R$m\n",
            "Valor incorreto, por gentileza digite um valor correto\n",
            "Digite o valor de cada CD4: R$4.99\n",
            "Digite o valor de cada CD5: R$.99\n",
            "Todos os valores: [3.0, 6.0, 5.0, 4.99, 0.99]\n",
            "Valor total dos CDs é: R$ 19.98\n",
            "Valor médio gasto por CD: R$ 3.996\n"
          ]
        }
      ]
    }
  ]
}